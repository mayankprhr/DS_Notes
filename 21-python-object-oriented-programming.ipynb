{
 "cells": [
  {
   "cell_type": "markdown",
   "id": "5c372b75-63ba-4c38-834c-4fc647f6f79e",
   "metadata": {
    "deletable": false,
    "editable": false
   },
   "source": [
    "<font size=\"+3\"><strong>Python: Object-oriented Programming</strong></font>"
   ]
  },
  {
   "cell_type": "markdown",
   "id": "bea28683-9d4f-42f9-be33-95a2bd0eec01",
   "metadata": {
    "deletable": false,
    "editable": false
   },
   "source": [
    "# What's OOP?\n",
    "\n",
    "**OOP** is short for **Object-oriented Programming**. It's a programming paradigm based on the concept of **objects** that contain **attributes** and **methods**. In Python, concepts we are already very familiar with like integers, strings and dictionaries are all objects. Every object has a **type**, which defines what you can do with the object. For example, the `int` type defines what happens when adding something to an integer and what happens when trying to convert it to a string. "
   ]
  },
  {
   "cell_type": "code",
   "execution_count": null,
   "id": "9b34656c-ed6a-4371-a86a-59cd7702780b",
   "metadata": {
    "deletable": false
   },
   "outputs": [],
   "source": [
    "x = 42\n",
    "print(\"%d is an object of %s\" % (x, type(x)))\n",
    "\n",
    "x = \"Hello world!\"\n",
    "print(\"%s is an object of %s\" % (x, type(x)))"
   ]
  },
  {
   "cell_type": "markdown",
   "id": "6a9e1506-4d80-48f1-bdb4-ba35027d1aab",
   "metadata": {
    "deletable": false,
    "editable": false
   },
   "source": [
    "An object's **attributes** are its internal variables that are used to store information about the object. For example, in the code below, we define a cat object that has a name and age."
   ]
  },
  {
   "cell_type": "code",
   "execution_count": null,
   "id": "2e3e0772-7e15-4be1-b17a-8526ad9e8983",
   "metadata": {
    "deletable": false
   },
   "outputs": [],
   "source": [
    "class Cat:\n",
    "    def __init__(self, name, age):\n",
    "        self.name = name\n",
    "        self.age = age\n",
    "\n",
    "\n",
    "my_cat = Cat(\"Lily\", 3)\n",
    "\n",
    "print(my_cat.name)\n",
    "print(my_cat.age)"
   ]
  },
  {
   "cell_type": "markdown",
   "id": "b2d25f10-dd27-41ce-8e49-10406b16779f",
   "metadata": {
    "deletable": false,
    "editable": false
   },
   "source": [
    "An object's **methods** are its internal functions that implement different capabilities. For example, `str` objects come with an `upper` and `lower` method."
   ]
  },
  {
   "cell_type": "code",
   "execution_count": null,
   "id": "cfb749ca-3539-4cf8-9888-f27b12728dd8",
   "metadata": {
    "deletable": false
   },
   "outputs": [],
   "source": [
    "x = \"Zijing\"\n",
    "print(x.lower())\n",
    "print(x.upper())"
   ]
  },
  {
   "cell_type": "markdown",
   "id": "5549d835-369f-4755-a42f-d2259a9c1989",
   "metadata": {
    "deletable": false,
    "editable": false
   },
   "source": [
    "# Classes\n",
    "\n",
    "The full definition of an object is an object's **class**. We can define our own classes to create objects that carry out a variety of related tasks or represent information in a convenient way. To understand the concept of class better, let's implement a class called `Rectangle`. \n",
    "\n",
    "The first thing we'll need `Rectangle` to do is to be able to create a `Rectangle` object. Through a special method called `__init__`, we can define the height and length of the rectangle as attributed. Then we can define methods to calculate the `area` and `perimeter` of the rectangle."
   ]
  },
  {
   "cell_type": "markdown",
   "id": "426d2f7d-8d4b-42f9-999d-a81053961785",
   "metadata": {
    "deletable": false,
    "editable": false
   },
   "source": [
    "## Defining a Class"
   ]
  },
  {
   "cell_type": "code",
   "execution_count": null,
   "id": "fc69bb99-cf01-4043-b45b-11ae3e52d8ea",
   "metadata": {
    "deletable": false
   },
   "outputs": [],
   "source": [
    "class Rectangle(object):\n",
    "    def __init__(self, height, length):\n",
    "        self.height = height\n",
    "        self.length = length\n",
    "\n",
    "    def area(self):\n",
    "        return self.height * self.length\n",
    "\n",
    "    def perimeter(self):\n",
    "        return 2 * (self.height + self.length)"
   ]
  },
  {
   "cell_type": "code",
   "execution_count": null,
   "id": "89fe5287-255a-44a8-be44-454c84e6a2db",
   "metadata": {
    "deletable": false
   },
   "outputs": [],
   "source": [
    "# Define a Rectangle class\n",
    "rectangle = Rectangle(4, 3)\n",
    "print(rectangle)"
   ]
  },
  {
   "cell_type": "markdown",
   "id": "0b4f1e53-80fa-4490-a596-b748a376d4e0",
   "metadata": {
    "deletable": false,
    "editable": false
   },
   "source": [
    "## Attributes\n",
    "\n",
    "There are two attributes in this rectangle class: `height` and `length`. They are all defined within the `__init__` method. When we define a `Rectangle` object, we define the attributes:"
   ]
  },
  {
   "cell_type": "code",
   "execution_count": null,
   "id": "8b3940d5-4359-40c2-afdf-965637f9e065",
   "metadata": {
    "deletable": false
   },
   "outputs": [],
   "source": [
    "rectangle.height"
   ]
  },
  {
   "cell_type": "code",
   "execution_count": null,
   "id": "1812af1f-56c5-420e-8703-23165826f5ba",
   "metadata": {
    "deletable": false
   },
   "outputs": [],
   "source": [
    "rectangle.length"
   ]
  },
  {
   "cell_type": "markdown",
   "id": "b2dc1832-c80a-4596-855d-22431115d5ba",
   "metadata": {
    "deletable": false,
    "editable": false
   },
   "source": [
    "## Methods\n",
    "\n",
    "Including the `__init__` method, there are two other methods called `area` and `perimeter`, which guide the rectangle object on how to calculate its area and perimeter using its attributes."
   ]
  },
  {
   "cell_type": "code",
   "execution_count": null,
   "id": "44e32d99-6cc9-4df8-a4a6-c00f71dc1686",
   "metadata": {
    "deletable": false
   },
   "outputs": [],
   "source": [
    "rectangle.area()"
   ]
  },
  {
   "cell_type": "code",
   "execution_count": null,
   "id": "2b77cc93-baa1-4c06-b148-8a01102b428a",
   "metadata": {
    "deletable": false
   },
   "outputs": [],
   "source": [
    "rectangle.perimeter()"
   ]
  },
  {
   "cell_type": "markdown",
   "id": "930b82c6-dcbe-4e06-beb9-fa719a5b3f91",
   "metadata": {
    "deletable": false,
    "editable": false
   },
   "source": [
    "You might have noticed that both of the methods took as a first argument the keyword `self`.  The first argument to any method in a class is the instance of the class upon which the method is being called.  Think of a class like a blueprint from which possibly many objects are built. The `self` argument is the mechanism Python uses so that the method can know which instance of the class it is being called upon.  When the method is actually called, we can call it in two ways.  Let's say we create a class `MyClass` with method `.do_it(self)`, if we instantiate an object from this class, we can call the method in two ways:"
   ]
  },
  {
   "cell_type": "code",
   "execution_count": null,
   "id": "bd014338-3310-425c-89f8-f4f879cfb20f",
   "metadata": {
    "deletable": false
   },
   "outputs": [],
   "source": [
    "class MyClass(object):\n",
    "    def __init__(self, num):\n",
    "        self.num = num\n",
    "\n",
    "    def do_it(self):\n",
    "        print(self.num)\n",
    "\n",
    "\n",
    "myclass = MyClass(2)\n",
    "myclass.do_it()\n",
    "MyClass.do_it(myclass)"
   ]
  },
  {
   "cell_type": "markdown",
   "id": "c4a481c4-0b61-436c-a985-cad75193d04b",
   "metadata": {
    "deletable": false,
    "editable": false
   },
   "source": [
    "In the first way using `myclass.do_it()`, the `self` argument is understood because `myclass` is an instance of `MyClass`.  This is the almost universal way to do call a method.  The other possibility is `MyClass.do_it(myclass)` where we are passing in the object `myclass` as the `self` argument, this syntax is much less common.  \n",
    "\n",
    "Like all Python arguments, there is no need for `self` to be named `self`, we could also call it `this` or `apple` or `wizard`.  However, the use of `self` is a very strong Python convention which is rarely broken.  You should use this convention so that your code is understood by other people."
   ]
  },
  {
   "cell_type": "markdown",
   "id": "62b3f220-1b82-4529-bb3d-fd910902d3ea",
   "metadata": {
    "deletable": false,
    "editable": false
   },
   "source": [
    "<font size=\"+1\">Practice</font>\n",
    "\n",
    "Define a `Square` object with only one attribute: `side`. "
   ]
  },
  {
   "cell_type": "code",
   "execution_count": null,
   "id": "cfe16e2b-3620-4ec9-8c88-4c5fc9019bc6",
   "metadata": {
    "deletable": false
   },
   "outputs": [],
   "source": [
    "class Square(object):\n",
    "    \n",
    "\n",
    "\n",
    "Square"
   ]
  },
  {
   "cell_type": "markdown",
   "id": "3a6f3170-97df-44a4-a905-a4ec9159010c",
   "metadata": {
    "deletable": false,
    "editable": false
   },
   "source": [
    "Define a method on its area for the `Square` object:"
   ]
  },
  {
   "cell_type": "code",
   "execution_count": null,
   "id": "a6df1484-4154-4384-b263-ca0dcc4f8f4a",
   "metadata": {
    "deletable": false
   },
   "outputs": [],
   "source": [
    "class Square(object):\n",
    "    \n",
    "Square"
   ]
  },
  {
   "cell_type": "markdown",
   "id": "0aadeaf1-7464-4c59-b747-e63c2473eef4",
   "metadata": {
    "deletable": false,
    "editable": false
   },
   "source": [
    "Use the class you just defined to calculate the area of a square with side equals to 2."
   ]
  },
  {
   "cell_type": "code",
   "execution_count": null,
   "id": "321a7fcf-f4f6-4dc9-9a39-af27c611640b",
   "metadata": {
    "deletable": false
   },
   "outputs": [],
   "source": [
    "square = ...\n"
   ]
  },
  {
   "cell_type": "markdown",
   "id": "94bf80eb-874f-4ab4-a8a8-fe616c278577",
   "metadata": {
    "deletable": false,
    "editable": false
   },
   "source": [
    "# Inheritance"
   ]
  },
  {
   "cell_type": "markdown",
   "id": "32e982a7-9cd8-4ec4-9347-18df68b26496",
   "metadata": {
    "deletable": false,
    "editable": false
   },
   "source": [
    "Inheritance means we can define a class that inherits everything from another existing class, including its `method` and `attributes`. Inheritance enables us to create new classes that reuse, extend, and modify the behavior defined in other classes. For example, let's use the `Rectangle` class as an example:"
   ]
  },
  {
   "cell_type": "code",
   "execution_count": null,
   "id": "30b44bdf-7e6d-4764-8e36-e6d257891dfd",
   "metadata": {
    "deletable": false
   },
   "outputs": [],
   "source": [
    "class Rectangle(object):\n",
    "    def __init__(self, height, length):\n",
    "        self.height = height\n",
    "        self.length = length\n",
    "\n",
    "    def area(self):\n",
    "        return self.height * self.length\n",
    "\n",
    "    def perimeter(self):\n",
    "        return 2 * (self.height + self.length)"
   ]
  },
  {
   "cell_type": "code",
   "execution_count": null,
   "id": "983d3b76-bff3-42a8-b2e3-c85ac74fc93f",
   "metadata": {
    "deletable": false
   },
   "outputs": [],
   "source": [
    "rectangle = Rectangle(4, 3)\n",
    "rectangle.area()"
   ]
  },
  {
   "cell_type": "markdown",
   "id": "e5343feb-f5a2-4a48-8216-45fb67f5524a",
   "metadata": {
    "deletable": false,
    "editable": false
   },
   "source": [
    "We can further define another class called `Shape` that inherits everything from `Rectangle`:"
   ]
  },
  {
   "cell_type": "code",
   "execution_count": null,
   "id": "0664cf64-83f7-465f-9a14-a824b806ceef",
   "metadata": {
    "deletable": false
   },
   "outputs": [],
   "source": [
    "class Shape(Rectangle):\n",
    "    def is_rectangle(self):\n",
    "        return True"
   ]
  },
  {
   "cell_type": "markdown",
   "id": "2833dec0-32f4-48f4-9e58-933f7b161362",
   "metadata": {
    "deletable": false,
    "editable": false
   },
   "source": [
    "The `Shape` class performs like the `Rectangle` class:"
   ]
  },
  {
   "cell_type": "code",
   "execution_count": null,
   "id": "8feef321-f7a5-42ee-8d4a-ec8ae1828fff",
   "metadata": {
    "deletable": false
   },
   "outputs": [],
   "source": [
    "shape = Shape(4, 3)\n",
    "shape.area()"
   ]
  },
  {
   "cell_type": "markdown",
   "id": "5636ee70-8f3d-4bc0-82ca-dd302497ad5d",
   "metadata": {
    "deletable": false,
    "editable": false
   },
   "source": [
    "Now we can call the `is_rectangle` method that is not defined the in the `Rectangle` class:"
   ]
  },
  {
   "cell_type": "code",
   "execution_count": null,
   "id": "25462dad-7330-4d1e-b74b-6d40af138242",
   "metadata": {
    "deletable": false
   },
   "outputs": [],
   "source": [
    "shape.is_rectangle()"
   ]
  },
  {
   "cell_type": "markdown",
   "id": "d384607f-3fbe-4c28-a729-4223adc1b07b",
   "metadata": {
    "deletable": false,
    "editable": false
   },
   "source": [
    "<font size=\"+1\">Practice</font>\n",
    "\n",
    "Define a `SquareExtra` class that inherits the `Square` class you just defined (with attribute `side` and method `area`), and add a method perimeter to calculate the perimeter of a square given side."
   ]
  },
  {
   "cell_type": "code",
   "execution_count": null,
   "id": "0916eb83-9c17-4e21-8883-b8b463bfcf33",
   "metadata": {
    "deletable": false
   },
   "outputs": [],
   "source": [
    "class Square(object):\n",
    "    "
   ]
  },
  {
   "cell_type": "code",
   "execution_count": null,
   "id": "fd37add8-063f-4bd7-a8d8-2b7bac57990f",
   "metadata": {
    "deletable": false
   },
   "outputs": [],
   "source": [
    "class SquareExtra(Square):\n",
    "    "
   ]
  },
  {
   "cell_type": "code",
   "execution_count": null,
   "id": "984f6fe6-6176-41dd-88ed-08e02ae88390",
   "metadata": {
    "deletable": false
   },
   "outputs": [],
   "source": [
    "square = ...\n",
    "\n",
    "# Use the area() function\n"
   ]
  },
  {
   "cell_type": "code",
   "execution_count": null,
   "id": "18f381e2-6647-4a89-b860-21331fc99a07",
   "metadata": {
    "deletable": false
   },
   "outputs": [],
   "source": [
    "# Use the perimeter() function\n"
   ]
  },
  {
   "cell_type": "markdown",
   "id": "d30f7cd2-a6f4-4b98-8df8-929fe23e0ea0",
   "metadata": {
    "deletable": false,
    "editable": false
   },
   "source": [
    "# References & Further Reading \n",
    "\n",
    "- [Wikipedia Objected Oriented Programming](https://en.wikipedia.org/wiki/Object-oriented_programming)"
   ]
  },
  {
   "cell_type": "markdown",
   "id": "69e52929",
   "metadata": {
    "deletable": false,
    "editable": false
   },
   "source": [
    "---\n",
    "Copyright © 2022 WorldQuant University. This\n",
    "content is licensed solely for personal use. Redistribution or\n",
    "publication of this material is strictly prohibited.\n"
   ]
  }
 ],
 "metadata": {
  "kernelspec": {
   "display_name": "Python 3 (ipykernel)",
   "language": "python",
   "name": "python3"
  },
  "language_info": {
   "codemirror_mode": {
    "name": "ipython",
    "version": 3
   },
   "file_extension": ".py",
   "mimetype": "text/x-python",
   "name": "python",
   "nbconvert_exporter": "python",
   "pygments_lexer": "ipython3",
   "version": "3.9.6"
  },
  "vscode": {
   "interpreter": {
    "hash": "aee8b7b246df8f9039afb4144a1f6fd8d2ca17a180786b69acc140d282b71a49"
   }
  }
 },
 "nbformat": 4,
 "nbformat_minor": 5
}
