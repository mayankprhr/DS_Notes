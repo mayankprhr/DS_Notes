{
 "cells": [
  {
   "cell_type": "markdown",
   "id": "68c7b2a1-2aef-4698-9dd0-722a949c0920",
   "metadata": {
    "deletable": false,
    "editable": false
   },
   "source": [
    "<font size=\"+3\"><strong>APIs</strong></font>"
   ]
  },
  {
   "cell_type": "markdown",
   "id": "53ff569b-584b-420f-966d-470bce288327",
   "metadata": {
    "deletable": false,
    "editable": false
   },
   "source": [
    "# RESTful APIs"
   ]
  },
  {
   "cell_type": "markdown",
   "id": "2144db45-ab70-4a4b-b6c8-8ceb15be2d26",
   "metadata": {
    "deletable": false,
    "editable": false
   },
   "source": [
    "An Application Programming Interface **(API)** is a way for two or more computer programs to communicate with each other — either when they are running on the same computer or when they are running on different computers across the internet. **RESTful API** is a type of API that follows the constraints of REST architectural style and allows for interaction with RESTful web services. REST stands for Representational State Transfer, and API stands for application programming interface."
   ]
  },
  {
   "cell_type": "markdown",
   "id": "5303c5c4-539b-435a-97c8-6946f78d38b5",
   "metadata": {
    "deletable": false,
    "editable": false
   },
   "source": [
    "RESTful API is an interface to exchange information securely over the internet. The server needs to first identify the resource with unique resource identifiers. For REST services, the server will use Uniform Resource Locator (URL), which is a path to the resource. A URL is like a website address that you enter into your browser to visit any webpage. It usually contains with useful information that we could extract.\n",
    "\n",
    "RESTful APIs is implemented by using the Hypertext Transfer Protocol (HTTP). HTTP is a messaging protocol that describes the types and structure of messages that can be used for communication between servers and clients. Communication occurs by clients sending a request to a server and the server replying with a response.\n",
    "\n",
    "There are 4 kinds of requests clients can send: **GET**, **POST**, **PUT** **DELETE**:\n",
    "\n",
    "* **GET**: The most common request is GET. Anytime you open a web browser and click a website, you are making a GET request. GET is a request for the server to send the client information. When GET returns an HTTP response code of 200, it means the request is successful. In an error case, it most often returns a 404 (NOT FOUND ERROR) or 400 (BAD REQUEST ERROR). \n",
    "\n",
    "* **POST**: POST is used to send data to the server. They include the data representation with the request. It's also used to when you want the server to execute some sort of operation.\n",
    "\n",
    "* **PUT**: PUT is used to update existing resources on the server.\n",
    "\n",
    "* **DELETE**: DELETE is used to remove the resource."
   ]
  },
  {
   "cell_type": "markdown",
   "id": "6cd6ce24-1242-4cba-9779-84d1e63ec625",
   "metadata": {
    "deletable": false,
    "editable": false
   },
   "source": [
    "# Making an HTTP Request"
   ]
  },
  {
   "cell_type": "markdown",
   "id": "d39cb93e-7299-492b-9b99-47c0f6d63b64",
   "metadata": {
    "deletable": false,
    "editable": false
   },
   "source": [
    "We can specify the URL and use the `request` library to make HTTP requests:"
   ]
  },
  {
   "cell_type": "code",
   "execution_count": null,
   "id": "187aa6b8-0634-462a-ad64-93796e378fc8",
   "metadata": {
    "deletable": false
   },
   "outputs": [],
   "source": [
    "import requests\n",
    "\n",
    "url = \"http://www.google.com\"\n",
    "response = requests.get(url)\n",
    "response"
   ]
  },
  {
   "cell_type": "markdown",
   "id": "7fb26d48-dfb0-4497-b904-43b4a09c73ce",
   "metadata": {
    "deletable": false,
    "editable": false
   },
   "source": [
    "The output of the previous code stands for the status codes of a response, and recall that 200 means the request is successful."
   ]
  },
  {
   "cell_type": "markdown",
   "id": "ee9ecd62-bb33-41b1-8b21-5d6c66fe62d0",
   "metadata": {
    "deletable": false,
    "editable": false
   },
   "source": [
    "As mentioned earlier, we can specify parameters in a URL to get specific information. Take the AlphaVantage API as an example. We can specify which stock we want to extract and how frequently we want to extract it, along with our API key."
   ]
  },
  {
   "cell_type": "code",
   "execution_count": null,
   "id": "5805559f-2c44-4f66-87d7-812398d4e049",
   "metadata": {
    "deletable": false
   },
   "outputs": [],
   "source": [
    "# Get IBM's stock prices\n",
    "ticker = \"IBM\"\n",
    "\n",
    "\n",
    "url = (\n",
    "    \"https://www.alphavantage.co/query?\"\n",
    "    f\"function=TIME_SERIES_DAILY&\"\n",
    "    f\"symbol={ticker}&\"\n",
    "    f\"apikey=demo\"\n",
    ")\n",
    "\n",
    "url"
   ]
  },
  {
   "cell_type": "markdown",
   "id": "72417cdd-ce58-408f-96e4-e4e91726bd00",
   "metadata": {
    "deletable": false,
    "editable": false
   },
   "source": [
    "Now we have the URL ready, we can extract the information using `request`:"
   ]
  },
  {
   "cell_type": "code",
   "execution_count": null,
   "id": "1a9c0c07-81e9-4222-bfd8-2a2050a6832d",
   "metadata": {
    "deletable": false
   },
   "outputs": [],
   "source": [
    "response = requests.get(url=url)\n",
    "\n",
    "# Get the data in json format\n",
    "data = response.json()\n",
    "\n",
    "# Get the daily stock prices\n",
    "stock_data = data[\"Time Series (Daily)\"]"
   ]
  },
  {
   "cell_type": "markdown",
   "id": "04dfcddb-dc85-4085-b4a7-65488d1e0279",
   "metadata": {
    "deletable": false,
    "editable": false
   },
   "source": [
    "We will see the stock prices for IBM at any date."
   ]
  },
  {
   "cell_type": "code",
   "execution_count": null,
   "id": "b2273f96-7401-482d-be84-8f70a384b566",
   "metadata": {
    "deletable": false
   },
   "outputs": [],
   "source": [
    "stock_data[\"2022-10-19\"]"
   ]
  },
  {
   "cell_type": "markdown",
   "id": "23e23dd1-7d89-4394-9de7-1518a10a1d47",
   "metadata": {
    "deletable": false,
    "editable": false
   },
   "source": [
    "# Building Your Own API"
   ]
  },
  {
   "cell_type": "markdown",
   "id": "56470cdb-a413-41a4-a3a9-88273b7eaf7d",
   "metadata": {
    "deletable": false,
    "editable": false
   },
   "source": [
    "## Declaring Environment Variables"
   ]
  },
  {
   "cell_type": "markdown",
   "id": "72442c11-f1f7-46c8-8389-2253862c16ac",
   "metadata": {
    "deletable": false,
    "editable": false
   },
   "source": [
    "**Environment variables** are variables whose value is defined outside the code, typically through built-in operating system function or in a configuration file. The most common reason to use environment variables is to limit the need to modify and re-release an application just because of the changes in configuration data. Another use case of environment variables is to define API keys in the configuration file due to security concerns. If you are building an application calling different API with API keys, you don't want to show the keys in your code."
   ]
  },
  {
   "cell_type": "markdown",
   "id": "9fc81240-0f5d-4260-b8e4-d9ac60b8fe90",
   "metadata": {
    "deletable": false,
    "editable": false
   },
   "source": [
    "## Creating a Path"
   ]
  },
  {
   "cell_type": "markdown",
   "id": "66a603b4-49fe-4c30-abb9-5a0476b84315",
   "metadata": {
    "deletable": false,
    "editable": false
   },
   "source": [
    "There are lots of tools to build an API using Python. We will use the `FastAPI` module to show an example on how to create your own API. We can first set up the import the library and set up an application:"
   ]
  },
  {
   "cell_type": "code",
   "execution_count": null,
   "id": "1d1b2a2e-ca2b-4ce3-8397-4b137aebaf95",
   "metadata": {
    "deletable": false
   },
   "outputs": [],
   "source": [
    "from fastapi import FastAPI\n",
    "\n",
    "app = FastAPI()"
   ]
  },
  {
   "cell_type": "markdown",
   "id": "26ca44da-2b99-4e68-b16e-27a85cc1e907",
   "metadata": {
    "deletable": false,
    "editable": false
   },
   "source": [
    "Next, we create a path for the app to request content from. Then we use the `@app.get` function and specify the path with a forward slash (`/`):"
   ]
  },
  {
   "cell_type": "code",
   "execution_count": null,
   "id": "c9f18aeb-00e3-4fc3-9114-a37019af7c51",
   "metadata": {
    "deletable": false
   },
   "outputs": [],
   "source": [
    "@app.get(\"/ping\")\n",
    "def pong():\n",
    "    return {\"ping\": \"pong!\"}"
   ]
  },
  {
   "cell_type": "markdown",
   "id": "af3c3423-5330-4def-b6c4-5612414d5e9d",
   "metadata": {
    "deletable": false,
    "editable": false
   },
   "source": [
    "In this example, we define a path called `/ping`. When make a get request to this path, and the app should return what we defined in the `pong()` function. We can use the `requests` library to check the app is working fine.\n",
    "\n",
    "Before you run the code below, start your FastAPI server by going to the command line, using the `cd` command to get to the `/@textbook` directory, and run the command:\n",
    "\n",
    "```bash\n",
    "uvicorn main:app --reload --workers 1 --host localhost --port 8008\n",
    "```"
   ]
  },
  {
   "cell_type": "code",
   "execution_count": null,
   "id": "094c7634-6c34-4d34-bdb9-c3f6c4ef6f01",
   "metadata": {
    "deletable": false
   },
   "outputs": [],
   "source": [
    "import requests\n",
    "\n",
    "url = \"http://localhost:8008/ping\"\n",
    "response = requests.get(url=url)\n",
    "\n",
    "print(\"response code:\", response.status_code)\n",
    "response.json()"
   ]
  },
  {
   "cell_type": "markdown",
   "id": "4bc3b075-a3b3-466e-a04e-7b59b8a5df61",
   "metadata": {
    "deletable": false,
    "editable": false
   },
   "source": [
    "Note we can also create a `main` file so that we can include more functions for more complicated applications."
   ]
  },
  {
   "cell_type": "markdown",
   "id": "af7a1b23-c70f-4e69-ac39-93e0671dba26",
   "metadata": {
    "deletable": false,
    "editable": false
   },
   "source": [
    "## Data Classes and Type Checking"
   ]
  },
  {
   "cell_type": "markdown",
   "id": "01b30df6-95b0-49c8-88a0-dde951937356",
   "metadata": {
    "deletable": false,
    "editable": false
   },
   "source": [
    "When setting up an application, it is very important to ensure the input and output of the application are in the desired format. [pydantic](https://pydantic-docs.helpmanual.io/) is a widely used tool in data validation and type hinting enforcement, which provides user-friendly errors and help catch any invalid data type. Defining an object means creating a new class which inherits from the pydantic `BaseModel`. pydantic guarantees that the fields of the model instance will conform to the field types defined on the model. Let's define a `Person` class that has two attributes, name and age. We then use pydantic `BaseModel` to ensure the name is a string, and age is an integer."
   ]
  },
  {
   "cell_type": "code",
   "execution_count": null,
   "id": "a5d7e10f-262b-432b-8614-7c84f1890b26",
   "metadata": {
    "deletable": false
   },
   "outputs": [],
   "source": [
    "from pydantic import BaseModel\n",
    "\n",
    "\n",
    "class Person(BaseModel):\n",
    "    name: str\n",
    "    age: int\n",
    "\n",
    "\n",
    "person = Person(name=\"Lily\", age=3)\n",
    "print(person)"
   ]
  },
  {
   "cell_type": "markdown",
   "id": "82599c28-1327-4a59-bc86-732789798a3a",
   "metadata": {
    "deletable": false,
    "editable": false
   },
   "source": [
    "If we are not putting the desired data format, pydantic will help correct the error:"
   ]
  },
  {
   "cell_type": "code",
   "execution_count": null,
   "id": "f0e06965-cad2-461e-ad45-d4b2c835fabd",
   "metadata": {
    "deletable": false
   },
   "outputs": [],
   "source": [
    "person = Person(name=\"Lily\", age=\"3\")\n",
    "print(person)"
   ]
  },
  {
   "cell_type": "markdown",
   "id": "55227b6b-1393-413c-bd4f-1b09e61be910",
   "metadata": {
    "deletable": false,
    "editable": false
   },
   "source": [
    "pydantic `BaseModel` provides support for most of the common types from the Python standard library. We can define bool, int, float, str, list, tuple, dict, datetime.date, etc"
   ]
  },
  {
   "cell_type": "markdown",
   "id": "443f6b0d-3220-476d-bfea-0a496679a7be",
   "metadata": {
    "deletable": false,
    "editable": false
   },
   "source": [
    "<font size=\"+1\">Practice</font>\n",
    "\n",
    "Try it yourself! Using pydantic `BaseModel` to create an `Apartment` class that has three attributes: `name`, `built_year`, `near_bus_stop` in appropriate data types: "
   ]
  },
  {
   "cell_type": "code",
   "execution_count": null,
   "id": "7600930e-8bc8-42ce-ae67-fe1885b58f27",
   "metadata": {
    "deletable": false
   },
   "outputs": [],
   "source": [
    "# Build Apartment class\n",
    "\n",
    "\n",
    "\n",
    "# Instantiate object\n",
    "apartment = Apartment(name=\"riverside\", built_year=2007, near_bus_stop=True)\n",
    "print(apartment)"
   ]
  },
  {
   "cell_type": "markdown",
   "id": "c964143c-b2ba-47dc-b478-c62ced9d8690",
   "metadata": {
    "deletable": false,
    "editable": false
   },
   "source": [
    "# References & Further Reading \n",
    "\n",
    "- [RESTful API Introduction](https://www.geeksforgeeks.org/rest-api-introduction/)\n",
    "- [RESTful API Documents](https://aws.amazon.com/what-is/restful-api/)\n",
    "- [Environment Variable](https://medium.com/chingu/an-introduction-to-environment-variables-and-how-to-use-them-f602f66d15fa)\n",
    "- [FastAPI example](https://testdriven.io/blog/fastapi-machine-learning/)\n"
   ]
  },
  {
   "cell_type": "markdown",
   "id": "33ae3ec1",
   "metadata": {
    "deletable": false,
    "editable": false
   },
   "source": [
    "---\n",
    "Copyright © 2022 WorldQuant University. This\n",
    "content is licensed solely for personal use. Redistribution or\n",
    "publication of this material is strictly prohibited.\n"
   ]
  }
 ],
 "metadata": {
  "kernelspec": {
   "display_name": "Python 3 (ipykernel)",
   "language": "python",
   "name": "python3"
  },
  "language_info": {
   "codemirror_mode": {
    "name": "ipython",
    "version": 3
   },
   "file_extension": ".py",
   "mimetype": "text/x-python",
   "name": "python",
   "nbconvert_exporter": "python",
   "pygments_lexer": "ipython3",
   "version": "3.9.6"
  },
  "toc-autonumbering": false
 },
 "nbformat": 4,
 "nbformat_minor": 5
}
